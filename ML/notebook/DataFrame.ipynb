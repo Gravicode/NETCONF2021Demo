{
 "cells": [
  {
   "cell_type": "code",
   "execution_count": 1,
   "metadata": {
    "dotnet_interactive": {
     "language": "csharp"
    }
   },
   "outputs": [
    {
     "data": {
      "text/html": [
       "\r\n",
       "<div>\r\n",
       "    <div id='dotnet-interactive-this-cell-33472.Microsoft.DotNet.Interactive.Http.HttpPort' style='display: none'>\r\n",
       "        The below script needs to be able to find the current output cell; this is an easy method to get it.\r\n",
       "    </div>\r\n",
       "    <script type='text/javascript'>\r\n",
       "async function probeAddresses(probingAddresses) {\r\n",
       "    function timeout(ms, promise) {\r\n",
       "        return new Promise(function (resolve, reject) {\r\n",
       "            setTimeout(function () {\r\n",
       "                reject(new Error('timeout'))\r\n",
       "            }, ms)\r\n",
       "            promise.then(resolve, reject)\r\n",
       "        })\r\n",
       "    }\r\n",
       "\r\n",
       "    if (Array.isArray(probingAddresses)) {\r\n",
       "        for (let i = 0; i < probingAddresses.length; i++) {\r\n",
       "\r\n",
       "            let rootUrl = probingAddresses[i];\r\n",
       "\r\n",
       "            if (!rootUrl.endsWith('/')) {\r\n",
       "                rootUrl = `${rootUrl}/`;\r\n",
       "            }\r\n",
       "\r\n",
       "            try {\r\n",
       "                let response = await timeout(1000, fetch(`${rootUrl}discovery`, {\r\n",
       "                    method: 'POST',\r\n",
       "                    cache: 'no-cache',\r\n",
       "                    mode: 'cors',\r\n",
       "                    timeout: 1000,\r\n",
       "                    headers: {\r\n",
       "                        'Content-Type': 'text/plain'\r\n",
       "                    },\r\n",
       "                    body: probingAddresses[i]\r\n",
       "                }));\r\n",
       "\r\n",
       "                if (response.status == 200) {\r\n",
       "                    return rootUrl;\r\n",
       "                }\r\n",
       "            }\r\n",
       "            catch (e) { }\r\n",
       "        }\r\n",
       "    }\r\n",
       "}\r\n",
       "\r\n",
       "function loadDotnetInteractiveApi() {\r\n",
       "    probeAddresses([\"http://172.22.224.1:1000/\", \"http://192.168.1.100:1000/\", \"http://127.0.0.1:1000/\"])\r\n",
       "        .then((root) => {\r\n",
       "        // use probing to find host url and api resources\r\n",
       "        // load interactive helpers and language services\r\n",
       "        let dotnetInteractiveRequire = require.config({\r\n",
       "        context: '33472.Microsoft.DotNet.Interactive.Http.HttpPort',\r\n",
       "                paths:\r\n",
       "            {\r\n",
       "                'dotnet-interactive': `${root}resources`\r\n",
       "                }\r\n",
       "        }) || require;\r\n",
       "\r\n",
       "            window.dotnetInteractiveRequire = dotnetInteractiveRequire;\r\n",
       "\r\n",
       "            window.configureRequireFromExtension = function(extensionName, extensionCacheBuster) {\r\n",
       "                let paths = {};\r\n",
       "                paths[extensionName] = `${root}extensions/${extensionName}/resources/`;\r\n",
       "                \r\n",
       "                let internalRequire = require.config({\r\n",
       "                    context: extensionCacheBuster,\r\n",
       "                    paths: paths,\r\n",
       "                    urlArgs: `cacheBuster=${extensionCacheBuster}`\r\n",
       "                    }) || require;\r\n",
       "\r\n",
       "                return internalRequire\r\n",
       "            };\r\n",
       "        \r\n",
       "            dotnetInteractiveRequire([\r\n",
       "                    'dotnet-interactive/dotnet-interactive'\r\n",
       "                ],\r\n",
       "                function (dotnet) {\r\n",
       "                    dotnet.init(window);\r\n",
       "                },\r\n",
       "                function (error) {\r\n",
       "                    console.log(error);\r\n",
       "                }\r\n",
       "            );\r\n",
       "        })\r\n",
       "        .catch(error => {console.log(error);});\r\n",
       "    }\r\n",
       "\r\n",
       "// ensure `require` is available globally\r\n",
       "if ((typeof(require) !==  typeof(Function)) || (typeof(require.config) !== typeof(Function))) {\r\n",
       "    let require_script = document.createElement('script');\r\n",
       "    require_script.setAttribute('src', 'https://cdnjs.cloudflare.com/ajax/libs/require.js/2.3.6/require.min.js');\r\n",
       "    require_script.setAttribute('type', 'text/javascript');\r\n",
       "    \r\n",
       "    \r\n",
       "    require_script.onload = function() {\r\n",
       "        loadDotnetInteractiveApi();\r\n",
       "    };\r\n",
       "\r\n",
       "    document.getElementsByTagName('head')[0].appendChild(require_script);\r\n",
       "}\r\n",
       "else {\r\n",
       "    loadDotnetInteractiveApi();\r\n",
       "}\r\n",
       "\r\n",
       "    </script>\r\n",
       "</div>"
      ]
     },
     "metadata": {},
     "output_type": "display_data"
    },
    {
     "data": {
      "text/html": [
       "<div><div></div><div></div><div><strong>Installed Packages</strong><ul><li><span>Microsoft.Data.Analysis, 0.2.0</span></li><li><span>XPlot.Plotly, 2.0.0</span></li></ul></div></div>"
      ]
     },
     "metadata": {},
     "output_type": "display_data"
    }
   ],
   "source": [
    "#r \"nuget:Microsoft.Data.Analysis,0.2.0\"\n",
    "#r \"nuget:XPlot.Plotly,2.0.0\"\n",
    "\n",
    "using Microsoft.Data.Analysis;\n",
    "using System.Data;\n",
    "using XPlot.Plotly;\n",
    "using Microsoft.DotNet.Interactive.Formatting;\n",
    "\n"
   ]
  },
  {
   "cell_type": "code",
   "execution_count": 2,
   "metadata": {
    "dotnet_interactive": {
     "language": "csharp"
    }
   },
   "outputs": [
    {
     "name": "stderr",
     "output_type": "stream",
     "text": [
      "\n",
      "(7,9): error CS0103: The name 'h1' does not exist in the current context\n",
      "\n"
     ]
    },
    {
     "ename": "Cell not executed",
     "evalue": "compilation error",
     "output_type": "error",
     "traceback": []
    }
   ],
   "source": [
    "PrimitiveDataFrameColumn<DateTime> createdDate = new PrimitiveDataFrameColumn<DateTime>(\"CreatedDate\");\n",
    "PrimitiveDataFrameColumn<float> temp = new PrimitiveDataFrameColumn<float>(\"Temp\");\n",
    "PrimitiveDataFrameColumn<bool> status = new PrimitiveDataFrameColumn<bool>(\"Status\",10);\n",
    "StringDataFrameColumn deviceName = new StringDataFrameColumn(\"DeviceName\",10);\n",
    "StringDataFrameColumn actions = new StringDataFrameColumn(\"Actions\", 10);\n",
    "StringDataFrameColumn factory = new StringDataFrameColumn(\"Factory\", 10);\n"
   ]
  },
  {
   "cell_type": "code",
   "execution_count": null,
   "metadata": {
    "dotnet_interactive": {
     "language": "csharp"
    }
   },
   "outputs": [
    {
     "data": {
      "text/html": [
       "<table><thead><tr><th>Columns</th><th>Rows</th></tr></thead><tbody><tr><td><div class=\"dni-plaintext\">[ [ DataType, Length (excluding null values) ], [ System.DateTime, 10 ], [ System.String, 10 ], [ System.String, 10 ], [ System.Single, 10 ], [ System.Boolean, 0 ], [ System.String, 10 ] ]</div></td><td><div class=\"dni-plaintext\">[ [ DataType, System.DateTime, System.String, System.String, System.Single, System.Boolean, System.String ], [ Length (excluding null values), 10, 10, 10, 10, 0, 10 ] ]</div></td></tr></tbody></table>"
      ]
     },
     "metadata": {},
     "output_type": "display_data"
    }
   ],
   "source": [
    "Random rnd = new Random(Environment.TickCount);\n",
    "Enumerable.Range(1, 10).ToList().ForEach(x => { createdDate.Append(DateTime.Now.AddDays(x)); temp.Append(rnd.Next(25, 50)); deviceName[x-1] = $\"device-{x}\";factory[x - 1] = $\"factory-{rnd.Next(1, 3)}\"; });\n",
    "\n",
    "var df = new DataFrame(createdDate, deviceName, factory, temp, status, actions);\n",
    "df.Info()"
   ]
  },
  {
   "cell_type": "code",
   "execution_count": null,
   "metadata": {
    "dotnet_interactive": {
     "language": "csharp"
    }
   },
   "outputs": [
    {
     "data": {
      "text/html": [
       "<table><thead><tr><th>Columns</th><th>Rows</th></tr></thead><tbody><tr><td><div class=\"dni-plaintext\">[ [ 2021-11-29 06:07:03Z, 2021-11-30 06:07:03Z, 2021-12-01 06:07:03Z, 2021-12-02 06:07:03Z, 2021-12-03 06:07:03Z, 2021-12-04 06:07:03Z, 2021-12-05 06:07:03Z, 2021-12-06 06:07:03Z, 2021-12-07 06:07:03Z, 2021-12-08 06:07:03Z ], [ device-1, device-2, device-3, device-4, device-5, device-6, device-7, device-8, device-9, device-10 ], [ factory-2, factory-1, factory-1, factory-1, factory-1, factory-2, factory-2, factory-1, factory-1, factory-1 ], [ 31, 37, 43, 28, 25, 42, 47, 45, 26, 45 ], [ &lt;null&gt;, &lt;null&gt;, &lt;null&gt;, &lt;null&gt;, &lt;null&gt;, &lt;null&gt;, &lt;null&gt;, &lt;null&gt;, &lt;null&gt;, &lt;null&gt; ], [ &lt;null&gt;, &lt;null&gt;, &lt;null&gt;, &lt;null&gt;, &lt;null&gt;, &lt;null&gt;, &lt;null&gt;, &lt;null&gt;, &lt;null&gt;, &lt;null&gt; ] ]</div></td><td><div class=\"dni-plaintext\">[ [ 2021-11-29 06:07:03Z, device-1, factory-2, 31, &lt;null&gt;, &lt;null&gt; ], [ 2021-11-30 06:07:03Z, device-2, factory-1, 37, &lt;null&gt;, &lt;null&gt; ], [ 2021-12-01 06:07:03Z, device-3, factory-1, 43, &lt;null&gt;, &lt;null&gt; ], [ 2021-12-02 06:07:03Z, device-4, factory-1, 28, &lt;null&gt;, &lt;null&gt; ], [ 2021-12-03 06:07:03Z, device-5, factory-1, 25, &lt;null&gt;, &lt;null&gt; ], [ 2021-12-04 06:07:03Z, device-6, factory-2, 42, &lt;null&gt;, &lt;null&gt; ], [ 2021-12-05 06:07:03Z, device-7, factory-2, 47, &lt;null&gt;, &lt;null&gt; ], [ 2021-12-06 06:07:03Z, device-8, factory-1, 45, &lt;null&gt;, &lt;null&gt; ], [ 2021-12-07 06:07:03Z, device-9, factory-1, 26, &lt;null&gt;, &lt;null&gt; ], [ 2021-12-08 06:07:03Z, device-10, factory-1, 45, &lt;null&gt;, &lt;null&gt; ] ]</div></td></tr></tbody></table>"
      ]
     },
     "metadata": {},
     "output_type": "display_data"
    }
   ],
   "source": [
    "df"
   ]
  },
  {
   "cell_type": "code",
   "execution_count": null,
   "metadata": {
    "dotnet_interactive": {
     "language": "csharp"
    }
   },
   "outputs": [
    {
     "ename": "Error",
     "evalue": "(2,22): error CS0117: 'Formatter<DataFrame>' does not contain a definition for 'Register'",
     "output_type": "error",
     "traceback": [
      "(2,22): error CS0117: 'Formatter<DataFrame>' does not contain a definition for 'Register'"
     ]
    }
   ],
   "source": [
    "using Microsoft.AspNetCore.Html;\n",
    "\n",
    "Formatter.Register<DataFrame>((df, writer) =>\n",
    "{\n",
    "    var headers = new List<IHtmlContent>();\n",
    "    headers.Add(th(i(\"index\")));\n",
    "    headers.AddRange(df.Columns.Select(c => (IHtmlContent) th(c.Name)));\n",
    "    var rows = new List<List<IHtmlContent>>();\n",
    "    var take = 20;\n",
    "    for (var i = 0; i < Math.Min(take, df.Rows.Count); i++)\n",
    "    {\n",
    "        var cells = new List<IHtmlContent>();\n",
    "        cells.Add(td(i));\n",
    "        foreach (var obj in df.Rows[i])\n",
    "        {\n",
    "            cells.Add(td(obj));\n",
    "        }\n",
    "        rows.Add(cells);\n",
    "    }\n",
    "    \n",
    "    var t = table(\n",
    "        thead(\n",
    "            headers),\n",
    "        tbody(\n",
    "            rows.Select(\n",
    "                r => tr(r))));\n",
    "    \n",
    "    writer.Write(t);\n",
    "}, \"text/html\");"
   ]
  },
  {
   "cell_type": "code",
   "execution_count": null,
   "metadata": {
    "dotnet_interactive": {
     "language": "csharp"
    }
   },
   "outputs": [],
   "source": [
    "df[\"Temp\"] = temp + rnd.Next(-1,1);"
   ]
  },
  {
   "cell_type": "code",
   "execution_count": null,
   "metadata": {
    "dotnet_interactive": {
     "language": "csharp"
    }
   },
   "outputs": [
    {
     "data": {
      "text/html": [
       "<table><thead><tr><th>Columns</th><th>Rows</th></tr></thead><tbody><tr><td><div class=\"dni-plaintext\">[ [ 2021-11-29 06:07:03Z, 2021-11-30 06:07:03Z, 2021-12-01 06:07:03Z, 2021-12-02 06:07:03Z, 2021-12-03 06:07:03Z, 2021-12-04 06:07:03Z, 2021-12-05 06:07:03Z, 2021-12-06 06:07:03Z, 2021-12-07 06:07:03Z, 2021-12-08 06:07:03Z ], [ device-1, device-2, device-3, device-4, device-5, device-6, device-7, device-8, device-9, device-10 ], [ factory-2, factory-1, factory-1, factory-1, factory-1, factory-2, factory-2, factory-1, factory-1, factory-1 ], [ 31, 37, 43, 28, 25, 42, 47, 45, 26, 45 ], [ False, False, False, True, True, False, False, False, True, False ], [ &lt;null&gt;, &lt;null&gt;, &lt;null&gt;, &lt;null&gt;, &lt;null&gt;, &lt;null&gt;, &lt;null&gt;, &lt;null&gt;, &lt;null&gt;, &lt;null&gt; ] ]</div></td><td><div class=\"dni-plaintext\">[ [ 2021-11-29 06:07:03Z, device-1, factory-2, 31, False, &lt;null&gt; ], [ 2021-11-30 06:07:03Z, device-2, factory-1, 37, False, &lt;null&gt; ], [ 2021-12-01 06:07:03Z, device-3, factory-1, 43, False, &lt;null&gt; ], [ 2021-12-02 06:07:03Z, device-4, factory-1, 28, True, &lt;null&gt; ], [ 2021-12-03 06:07:03Z, device-5, factory-1, 25, True, &lt;null&gt; ], [ 2021-12-04 06:07:03Z, device-6, factory-2, 42, False, &lt;null&gt; ], [ 2021-12-05 06:07:03Z, device-7, factory-2, 47, False, &lt;null&gt; ], [ 2021-12-06 06:07:03Z, device-8, factory-1, 45, False, &lt;null&gt; ], [ 2021-12-07 06:07:03Z, device-9, factory-1, 26, True, &lt;null&gt; ], [ 2021-12-08 06:07:03Z, device-10, factory-1, 45, False, &lt;null&gt; ] ]</div></td></tr></tbody></table>"
      ]
     },
     "metadata": {},
     "output_type": "display_data"
    }
   ],
   "source": [
    "for(int row = 0; row < temp.Length; row++)\n",
    "{\n",
    "    status[row] = temp[row] <= 30;\n",
    "}\n",
    "df"
   ]
  },
  {
   "cell_type": "code",
   "execution_count": null,
   "metadata": {
    "dotnet_interactive": {
     "language": "csharp"
    }
   },
   "outputs": [
    {
     "data": {
      "text/html": [
       "<table><thead><tr><th>Columns</th><th>Rows</th></tr></thead><tbody><tr><td><div class=\"dni-plaintext\">[ [ 2021-11-29 05:54:39Z, 2021-11-30 05:54:39Z, 2021-12-01 05:54:39Z, 2021-12-02 05:54:39Z, 2021-12-03 05:54:39Z, 2021-12-04 05:54:39Z, 2021-12-05 05:54:39Z, 2021-12-06 05:54:39Z, 2021-12-07 05:54:39Z, 2021-12-08 05:54:39Z ], [ device-1, device-2, device-3, device-4, device-5, device-6, device-7, device-8, device-9, device-10 ], [ factory-1, factory-2, factory-2, factory-2, factory-2, factory-1, factory-1, factory-2, factory-2, factory-1 ], [ 38, 28, 43, 43, 47, 48, 46, 41, 37, 38 ], [ False, True, False, False, False, False, False, False, False, False ], [ device perlu di reset, &lt;null&gt;, device perlu di reset, device perlu di reset, device perlu di reset, device perlu di reset, device perlu di reset, device perlu di reset, device perlu di reset, device perlu di reset ] ]</div></td><td><div class=\"dni-plaintext\">[ [ 2021-11-29 05:54:39Z, device-1, factory-1, 38, False, device perlu di reset ], [ 2021-11-30 05:54:39Z, device-2, factory-2, 28, True, &lt;null&gt; ], [ 2021-12-01 05:54:39Z, device-3, factory-2, 43, False, device perlu di reset ], [ 2021-12-02 05:54:39Z, device-4, factory-2, 43, False, device perlu di reset ], [ 2021-12-03 05:54:39Z, device-5, factory-2, 47, False, device perlu di reset ], [ 2021-12-04 05:54:39Z, device-6, factory-1, 48, False, device perlu di reset ], [ 2021-12-05 05:54:39Z, device-7, factory-1, 46, False, device perlu di reset ], [ 2021-12-06 05:54:39Z, device-8, factory-2, 41, False, device perlu di reset ], [ 2021-12-07 05:54:39Z, device-9, factory-2, 37, False, device perlu di reset ], [ 2021-12-08 05:54:39Z, device-10, factory-1, 38, False, device perlu di reset ] ]</div></td></tr></tbody></table>"
      ]
     },
     "metadata": {},
     "output_type": "display_data"
    }
   ],
   "source": [
    "for (int row = 0; row < status.Length; row++)\n",
    "{\n",
    "    if (!status[row].Value)\n",
    "        df[row, 5] = \"device perlu di reset\"; \n",
    "\n",
    "}\n",
    "df"
   ]
  },
  {
   "cell_type": "code",
   "execution_count": null,
   "metadata": {
    "dotnet_interactive": {
     "language": "csharp"
    }
   },
   "outputs": [
    {
     "data": {
      "text/html": [
       "<table><thead><tr><th>Columns</th><th>Rows</th></tr></thead><tbody><tr><td><div class=\"dni-plaintext\">[ [ 2021-11-29 05:54:39Z, 2021-11-30 05:54:39Z, 2021-12-01 05:54:39Z, 2021-12-02 05:54:39Z, 2021-12-03 05:54:39Z, 2021-12-04 05:54:39Z, 2021-12-05 05:54:39Z, 2021-12-06 05:54:39Z, 2021-12-07 05:54:39Z, 2021-12-08 05:54:39Z ], [ device-1, device-2, device-3, device-4, device-5, device-6, device-7, device-8, device-9, device-10 ], [ factory-1, factory-2, factory-2, factory-2, factory-2, factory-1, factory-1, factory-2, factory-2, factory-1 ], [ 38, 28, 43, 43, 47, 48, 46, 41, 37, 38 ], [ False, True, False, False, False, False, False, False, False, False ], [ device perlu di reset, -, device perlu di reset, device perlu di reset, device perlu di reset, device perlu di reset, device perlu di reset, device perlu di reset, device perlu di reset, device perlu di reset ] ]</div></td><td><div class=\"dni-plaintext\">[ [ 2021-11-29 05:54:39Z, device-1, factory-1, 38, False, device perlu di reset ], [ 2021-11-30 05:54:39Z, device-2, factory-2, 28, True, - ], [ 2021-12-01 05:54:39Z, device-3, factory-2, 43, False, device perlu di reset ], [ 2021-12-02 05:54:39Z, device-4, factory-2, 43, False, device perlu di reset ], [ 2021-12-03 05:54:39Z, device-5, factory-2, 47, False, device perlu di reset ], [ 2021-12-04 05:54:39Z, device-6, factory-1, 48, False, device perlu di reset ], [ 2021-12-05 05:54:39Z, device-7, factory-1, 46, False, device perlu di reset ], [ 2021-12-06 05:54:39Z, device-8, factory-2, 41, False, device perlu di reset ], [ 2021-12-07 05:54:39Z, device-9, factory-2, 37, False, device perlu di reset ], [ 2021-12-08 05:54:39Z, device-10, factory-1, 38, False, device perlu di reset ] ]</div></td></tr></tbody></table>"
      ]
     },
     "metadata": {},
     "output_type": "display_data"
    }
   ],
   "source": [
    "df[\"Actions\"].FillNulls(\"-\", inPlace: true);\n",
    "df"
   ]
  },
  {
   "cell_type": "code",
   "execution_count": null,
   "metadata": {
    "dotnet_interactive": {
     "language": "csharp"
    }
   },
   "outputs": [],
   "source": [
    "DataTable dt = new DataTable(\"data sensor\");\n",
    "           \n",
    "foreach (var dc in df.Columns)\n",
    "{\n",
    "    dt.Columns.Add(dc.Name.Replace(\" \", \"\").Trim());\n",
    "}\n",
    "dt.AcceptChanges();\n",
    "\n",
    "for (long i = 0; i < df.Rows.Count; i++)\n",
    "{\n",
    "    DataFrameRow row = df.Rows[i];\n",
    "    var newRow = dt.NewRow();\n",
    "    var cols = 0;\n",
    "    foreach (var cell in row)\n",
    "    {\n",
    "        newRow[cols] = cell.ToString();\n",
    "        cols++;\n",
    "    }\n",
    "    dt.Rows.Add(newRow);\n",
    "}\n",
    "dt.AcceptChanges();"
   ]
  },
  {
   "cell_type": "code",
   "execution_count": null,
   "metadata": {
    "dotnet_interactive": {
     "language": "csharp"
    }
   },
   "outputs": [
    {
     "ename": "Error",
     "evalue": "(1,2): error CS0103: The name 'Formatter' does not exist in the current context",
     "output_type": "error",
     "traceback": [
      "(1,2): error CS0103: The name 'Formatter' does not exist in the current context"
     ]
    }
   ],
   "source": [
    " Formatter<DataTable>.Register((df, writer) =>\n",
    "            {\n",
    "                var headers = new List<IHtmlContent>();\n",
    "                headers.Add(th(i(\"index\")));\n",
    "                foreach (DataColumn dc in df.Columns)\n",
    "                {\n",
    "                    headers.Add((IHtmlContent)th(dc.ColumnName));\n",
    "                }\n",
    "               \n",
    "                var rows = new List<List<IHtmlContent>>();\n",
    "                var take = 20;\n",
    "                for (var i = 0; i < Math.Min(take, df.Rows.Count); i++)\n",
    "                {\n",
    "                    var cells = new List<IHtmlContent>();\n",
    "                    cells.Add(td(i));\n",
    "                    DataRow obj = df.Rows[i];\n",
    "                    \n",
    "                    for (int x = 0; x < df.Columns.Count;x++)\n",
    "                    {\n",
    "                        cells.Add(td(obj[x].ToString()));\n",
    "                    }\n",
    "                    \n",
    "                   \n",
    "                    rows.Add(cells);\n",
    "                }\n",
    "\n",
    "                var t = table(\n",
    "                    thead(\n",
    "                        headers),\n",
    "                    tbody(\n",
    "                        rows.Select(\n",
    "                            r => tr(r))));\n",
    "\n",
    "                writer.Write(t);\n",
    "            }, \"text/html\");"
   ]
  },
  {
   "cell_type": "code",
   "execution_count": 53,
   "metadata": {
    "dotnet_interactive": {
     "language": "csharp"
    }
   },
   "outputs": [
    {
     "data": {
      "text/html": [
       "<table><thead><th><i>index</i></th><th>CreatedDate</th><th>DeviceName</th><th>Factory</th><th>Temp</th><th>Status</th><th>Actions</th></thead><tbody><tr><td>0</td><td>1/16/2020 6:43:00 AM</td><td>device-1</td><td>factory-2</td><td>37</td><td>False</td><td>device perlu di reset</td></tr><tr><td>1</td><td>1/17/2020 6:43:00 AM</td><td>device-2</td><td>factory-1</td><td>38</td><td>False</td><td>device perlu di reset</td></tr><tr><td>2</td><td>1/18/2020 6:43:00 AM</td><td>device-3</td><td>factory-2</td><td>41</td><td>False</td><td>device perlu di reset</td></tr><tr><td>3</td><td>1/19/2020 6:43:00 AM</td><td>device-4</td><td>factory-2</td><td>38</td><td>False</td><td>device perlu di reset</td></tr><tr><td>4</td><td>1/20/2020 6:43:00 AM</td><td>device-5</td><td>factory-1</td><td>27</td><td>True</td><td>-</td></tr><tr><td>5</td><td>1/21/2020 6:43:00 AM</td><td>device-6</td><td>factory-2</td><td>34</td><td>False</td><td>device perlu di reset</td></tr><tr><td>6</td><td>1/22/2020 6:43:00 AM</td><td>device-7</td><td>factory-1</td><td>30</td><td>False</td><td>device perlu di reset</td></tr><tr><td>7</td><td>1/23/2020 6:43:00 AM</td><td>device-8</td><td>factory-2</td><td>42</td><td>False</td><td>device perlu di reset</td></tr><tr><td>8</td><td>1/24/2020 6:43:00 AM</td><td>device-9</td><td>factory-2</td><td>45</td><td>False</td><td>device perlu di reset</td></tr><tr><td>9</td><td>1/25/2020 6:43:00 AM</td><td>device-10</td><td>factory-1</td><td>32</td><td>False</td><td>device perlu di reset</td></tr></tbody></table>"
      ]
     },
     "execution_count": 53,
     "metadata": {},
     "output_type": "execute_result"
    }
   ],
   "source": [
    "dt"
   ]
  },
  {
   "cell_type": "code",
   "execution_count": 55,
   "metadata": {
    "dotnet_interactive": {
     "language": "csharp"
    }
   },
   "outputs": [
    {
     "data": {
      "text/html": [
       "<table><thead><th><i>index</i></th><th>CreatedDate</th><th>DeviceName</th><th>Factory</th><th>Temp</th><th>Status</th><th>Actions</th></thead><tbody><tr><td>0</td><td>2020-01-16 06:43:00Z</td><td>device-1</td><td>factory-2</td><td>37</td><td>False</td><td>device perlu di reset</td></tr><tr><td>1</td><td>2020-01-17 06:43:00Z</td><td>device-2</td><td>factory-1</td><td>38</td><td>False</td><td>device perlu di reset</td></tr><tr><td>2</td><td>2020-01-18 06:43:00Z</td><td>device-3</td><td>factory-2</td><td>41</td><td>False</td><td>device perlu di reset</td></tr><tr><td>3</td><td>2020-01-19 06:43:00Z</td><td>device-4</td><td>factory-2</td><td>38</td><td>False</td><td>device perlu di reset</td></tr><tr><td>4</td><td>2020-01-21 06:43:00Z</td><td>device-6</td><td>factory-2</td><td>34</td><td>False</td><td>device perlu di reset</td></tr><tr><td>5</td><td>2020-01-22 06:43:00Z</td><td>device-7</td><td>factory-1</td><td>30</td><td>False</td><td>device perlu di reset</td></tr><tr><td>6</td><td>2020-01-23 06:43:00Z</td><td>device-8</td><td>factory-2</td><td>42</td><td>False</td><td>device perlu di reset</td></tr><tr><td>7</td><td>2020-01-24 06:43:00Z</td><td>device-9</td><td>factory-2</td><td>45</td><td>False</td><td>device perlu di reset</td></tr><tr><td>8</td><td>2020-01-25 06:43:00Z</td><td>device-10</td><td>factory-1</td><td>32</td><td>False</td><td>device perlu di reset</td></tr></tbody></table>"
      ]
     },
     "execution_count": 55,
     "metadata": {},
     "output_type": "execute_result"
    }
   ],
   "source": [
    "PrimitiveDataFrameColumn<bool> boolFilter = df[\"Actions\"].ElementwiseNotEquals(\"-\");\n",
    "DataFrame filtered = df.Filter(boolFilter);\n",
    "filtered"
   ]
  },
  {
   "cell_type": "code",
   "execution_count": 56,
   "metadata": {
    "dotnet_interactive": {
     "language": "csharp"
    }
   },
   "outputs": [
    {
     "data": {
      "text/html": [
       "<table><thead><th><i>index</i></th><th>CreatedDate</th><th>DeviceName</th><th>Factory</th><th>Temp</th><th>Status</th><th>Actions</th></thead><tbody><tr><td>0</td><td>2020-01-20 06:43:00Z</td><td>device-5</td><td>factory-1</td><td>27</td><td>True</td><td>-</td></tr><tr><td>1</td><td>2020-01-22 06:43:00Z</td><td>device-7</td><td>factory-1</td><td>30</td><td>False</td><td>device perlu di reset</td></tr><tr><td>2</td><td>2020-01-25 06:43:00Z</td><td>device-10</td><td>factory-1</td><td>32</td><td>False</td><td>device perlu di reset</td></tr><tr><td>3</td><td>2020-01-21 06:43:00Z</td><td>device-6</td><td>factory-2</td><td>34</td><td>False</td><td>device perlu di reset</td></tr><tr><td>4</td><td>2020-01-16 06:43:00Z</td><td>device-1</td><td>factory-2</td><td>37</td><td>False</td><td>device perlu di reset</td></tr><tr><td>5</td><td>2020-01-17 06:43:00Z</td><td>device-2</td><td>factory-1</td><td>38</td><td>False</td><td>device perlu di reset</td></tr><tr><td>6</td><td>2020-01-19 06:43:00Z</td><td>device-4</td><td>factory-2</td><td>38</td><td>False</td><td>device perlu di reset</td></tr><tr><td>7</td><td>2020-01-18 06:43:00Z</td><td>device-3</td><td>factory-2</td><td>41</td><td>False</td><td>device perlu di reset</td></tr><tr><td>8</td><td>2020-01-23 06:43:00Z</td><td>device-8</td><td>factory-2</td><td>42</td><td>False</td><td>device perlu di reset</td></tr><tr><td>9</td><td>2020-01-24 06:43:00Z</td><td>device-9</td><td>factory-2</td><td>45</td><td>False</td><td>device perlu di reset</td></tr></tbody></table>"
      ]
     },
     "execution_count": 56,
     "metadata": {},
     "output_type": "execute_result"
    }
   ],
   "source": [
    "DataFrame sorted = df.Sort(\"Temp\");\n",
    "sorted"
   ]
  },
  {
   "cell_type": "code",
   "execution_count": 57,
   "metadata": {
    "dotnet_interactive": {
     "language": "csharp"
    }
   },
   "outputs": [],
   "source": [
    "GroupBy groupBy = df.GroupBy(\"Factory\");\n"
   ]
  },
  {
   "cell_type": "code",
   "execution_count": 63,
   "metadata": {
    "dotnet_interactive": {
     "language": "csharp"
    }
   },
   "outputs": [
    {
     "data": {
      "text/html": [
       "<table><thead><th><i>index</i></th><th>Factory</th><th>Temp</th></thead><tbody><tr><td>0</td><td>factory-2</td><td>39.5</td></tr><tr><td>1</td><td>factory-1</td><td>31.75</td></tr></tbody></table>"
      ]
     },
     "execution_count": 63,
     "metadata": {},
     "output_type": "execute_result"
    }
   ],
   "source": [
    "// Count of values in each group\n",
    "DataFrame groupCounts = groupBy.Count();\n",
    "// Alternatively find the sum of the values in each group in Ints\n",
    "DataFrame tempGroupAvg = groupBy.Mean(\"Temp\");\n",
    "tempGroupAvg"
   ]
  },
  {
   "cell_type": "code",
   "execution_count": 65,
   "metadata": {
    "dotnet_interactive": {
     "language": "csharp"
    }
   },
   "outputs": [
    {
     "data": {
      "text/html": [
       "<div id=\"21d76c72-6a1e-4a33-84d8-e904be4bc737\" style=\"width: 900px; height: 500px;\"></div><script type=\"text/javascript\">\r\n",
       "\r\n",
       "var renderPlotly = function() {\r\n",
       "    var xplotRequire = requirejs.config({context:'xplot-2.0.0',paths:{plotly:'https://cdn.plot.ly/plotly-1.49.2.min'}});\r\n",
       "    xplotRequire(['plotly'], function(Plotly) {\r\n",
       "\n",
       "            var data = [{\"type\":\"scatter\",\"x\":[\"2020-01-16T06:43:00.8245869+07:00\",\"2020-01-17T06:43:00.8246615+07:00\",\"2020-01-18T06:43:00.8246632+07:00\",\"2020-01-19T06:43:00.8246641+07:00\",\"2020-01-20T06:43:00.8246649+07:00\",\"2020-01-21T06:43:00.8246658+07:00\",\"2020-01-22T06:43:00.8246666+07:00\",\"2020-01-23T06:43:00.8246674+07:00\",\"2020-01-24T06:43:00.8246682+07:00\",\"2020-01-25T06:43:00.8246693+07:00\"],\"y\":[37.0,38.0,41.0,38.0,27.0,34.0,30.0,42.0,45.0,32.0]}];\n",
       "            var layout = {\"title\":\"Temperature per Date\"};\n",
       "            Plotly.newPlot('21d76c72-6a1e-4a33-84d8-e904be4bc737', data, layout);\n",
       "        });\r\n",
       "};\r\n",
       "if ((typeof(requirejs) !==  typeof(Function)) || (typeof(requirejs.config) !== typeof(Function))) { \r\n",
       "    var script = document.createElement(\"script\"); \r\n",
       "    script.setAttribute(\"src\", \"https://cdnjs.cloudflare.com/ajax/libs/require.js/2.3.6/require.min.js\"); \r\n",
       "    script.onload = function(){\r\n",
       "        renderPlotly();\r\n",
       "    };\r\n",
       "    document.getElementsByTagName(\"head\")[0].appendChild(script); \r\n",
       "}\r\n",
       "else {\r\n",
       "    renderPlotly();\r\n",
       "}\r\n",
       "</script>"
      ]
     },
     "metadata": {},
     "output_type": "display_data"
    }
   ],
   "source": [
    "var lineChart = Chart.Line(df.Rows.Select(g => new Tuple<DateTime, float>(Convert.ToDateTime(g[0]), Convert.ToSingle(g[3]))));\n",
    "lineChart.WithTitle(\"Temperature per Date\");\n",
    "display(lineChart);"
   ]
  },
  {
   "cell_type": "code",
   "execution_count": null,
   "metadata": {
    "dotnet_interactive": {
     "language": "csharp"
    }
   },
   "outputs": [],
   "source": []
  }
 ],
 "metadata": {
  "kernelspec": {
   "display_name": ".NET (C#)",
   "language": "C#",
   "name": ".net-csharp"
  },
  "language_info": {
   "file_extension": ".cs",
   "mimetype": "text/x-csharp",
   "name": "C#",
   "pygments_lexer": "csharp",
   "version": "9.0"
  }
 },
 "nbformat": 4,
 "nbformat_minor": 4
}
