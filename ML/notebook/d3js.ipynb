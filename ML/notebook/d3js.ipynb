{
 "cells": [
  {
   "cell_type": "code",
   "execution_count": null,
   "metadata": {
    "dotnet_interactive": {
     "language": "csharp"
    }
   },
   "outputs": [],
   "source": [
    "var rnd = new Random();\n",
    "var a = Enumerable.Range(1,rnd.Next(4,12)).Select( t => rnd.Next(t, t*10)).ToArray();"
   ]
  },
  {
   "cell_type": "code",
   "execution_count": null,
   "metadata": {
    "dotnet_interactive": {
     "language": "csharp"
    }
   },
   "outputs": [
    {
     "ename": "Error",
     "evalue": "notebookScope is not defined",
     "output_type": "error",
     "traceback": [
      "notebookScope is not defined"
     ]
    }
   ],
   "source": [
    "#!javascript\n",
    "\n",
    "if (typeof (notebookScope.interval) !== 'undefined') {\n",
    "    clearInterval(notebookScope.interval);\n",
    "}\n",
    "\n",
    "notebookScope.plot = (sgvSelector, variableName) => {\n",
    "    let dtreeLoader = interactive.configureRequire({\n",
    "        paths: {\n",
    "            d3: \"https://d3js.org/d3.v6.min\"\n",
    "        }\n",
    "    });\n",
    "    dtreeLoader([\"d3\"], function (d3) {\n",
    "        let svg = d3.\n",
    "            select(sgvSelector);\n",
    "        svg.selectAll(\"defs\").remove();\n",
    "        svg.selectAll(\"g\").remove();\n",
    "\n",
    "        let defs = svg.append(\"defs\");\n",
    "\n",
    "        let filter = defs.append(\"filter\").attr(\"id\", \"gooeyCodeFilter\");\n",
    "\n",
    "        filter.append(\"feGaussianBlur\")\n",
    "            .attr(\"in\", \"SourceGraphic\")\n",
    "            .attr(\"stdDeviation\", \"10\")\n",
    "            .attr(\"color-interpolation-filters\", \"sRGB\")\n",
    "            .attr(\"result\", \"blur\");\n",
    "\n",
    "        filter.append(\"feColorMatrix\")\n",
    "            .attr(\"in\", \"blur\")\n",
    "            .attr(\"mode\", \"matrix\")\n",
    "            .attr(\"values\", \"1 0 0 0 0  0 1 0 0 0  0 0 1 0 0  0 0 0 19 -9\")\n",
    "            .attr(\"result\", \"gooey\");\n",
    "\n",
    "        let container = d3\n",
    "            .select(sgvSelector)\n",
    "            .append(\"g\")\n",
    "            .style(\"filter\", \"url(#gooeyCodeFilter)\");\n",
    "\n",
    "\n",
    "        console.log(container);\n",
    "\n",
    "        let updateD3Rendering = () => interactive.csharp.getVariable(variableName)\n",
    "            .then(data => {\n",
    "                var i = 0;\n",
    "                var p = container\n",
    "                    .selectAll(\".points\")\n",
    "                    .data(data, (d, i) => i);\n",
    "\n",
    "                p.transition()\n",
    "                    .duration(2000)\n",
    "                    .style(\"fill\", d => d3.interpolateTurbo(d / 80))\n",
    "                    .attr(\"r\", d => Math.max(0, d));\n",
    "\n",
    "                p.enter()\n",
    "                    .append(\"circle\")\n",
    "                    .attr(\"class\", \"points\")\n",
    "                    .attr(\"cy\", 80)\n",
    "                    .attr(\"cx\", (d,i) => ((i) + 1) * 60)\n",
    "                    .transition()\n",
    "                    .duration(2000)\n",
    "                    .style(\"fill\", d => d3.interpolateTurbo(d / 80))\n",
    "                    .ease(d3.easeElasticOut.period(1.00))\n",
    "                    .attr(\"r\", d => Math.max(0, d)),\n",
    "\n",
    "                    p.exit()\n",
    "                        .transition()\n",
    "                        .duration(1000)\n",
    "                        .attr(\"r\", 0)\n",
    "                        .remove();\n",
    "            });\n",
    "        notebookScope.interval = setInterval(() => updateD3Rendering(), 3000);\n",
    "    });\n",
    "}"
   ]
  },
  {
   "cell_type": "code",
   "execution_count": null,
   "metadata": {
    "dotnet_interactive": {
     "language": "csharp"
    }
   },
   "outputs": [
    {
     "data": {
      "text/html": [
       "<svg id=\"dataPlot1\" width=\"100%\" height=200></svg>\r\n",
       "\r\n"
      ]
     },
     "metadata": {},
     "output_type": "display_data"
    },
    {
     "ename": "Error",
     "evalue": "notebookScope is not defined",
     "output_type": "error",
     "traceback": [
      "notebookScope is not defined"
     ]
    }
   ],
   "source": [
    "#!html\n",
    "<svg id=\"dataPlot1\" width=\"100%\" height=200></svg>\n",
    "\n",
    "#!js\n",
    "notebookScope.plot(\"svg#dataPlot1\", \"a\");"
   ]
  },
  {
   "cell_type": "code",
   "execution_count": null,
   "metadata": {
    "dotnet_interactive": {
     "language": "csharp"
    }
   },
   "outputs": [],
   "source": [
    "#!csharp\n",
    "for(var i = 0; i < 10; i++){\n",
    "    await Task.Delay(1000);\n",
    "    var limit = rnd.Next(4,12);\n",
    "    a = Enumerable.Range(1,limit).Select( t => rnd.Next(30, 80)).ToArray();\n",
    "}"
   ]
  }
 ],
 "metadata": {
  "kernelspec": {
   "display_name": ".NET (C#)",
   "language": "C#",
   "name": ".net-csharp"
  },
  "language_info": {
   "file_extension": ".cs",
   "mimetype": "text/x-csharp",
   "name": "C#",
   "pygments_lexer": "csharp",
   "version": "9.0"
  },
  "orig_nbformat": 4
 },
 "nbformat": 4,
 "nbformat_minor": 2
}
