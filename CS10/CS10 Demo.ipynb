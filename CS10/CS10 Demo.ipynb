{
 "cells": [
  {
   "cell_type": "code",
   "execution_count": 2,
   "id": "incident-dominican",
   "metadata": {},
   "outputs": [
    {
     "name": "stderr",
     "output_type": "stream",
     "text": [
      "\r\n",
      "(1,8): error CS1002: ; expected\r\n",
      "\r\n",
      "(1,8): error CS1529: A using clause must precede all other elements defined in the namespace except extern alias declarations\r\n",
      "\r\n",
      "(2,8): error CS1002: ; expected\r\n",
      "\r\n",
      "(2,8): error CS1529: A using clause must precede all other elements defined in the namespace except extern alias declarations\r\n",
      "\r\n",
      "(3,8): error CS1002: ; expected\r\n",
      "\r\n",
      "(3,8): error CS1529: A using clause must precede all other elements defined in the namespace except extern alias declarations\r\n",
      "\r\n"
     ]
    },
    {
     "ename": "Cell not executed",
     "evalue": "compilation error",
     "output_type": "error",
     "traceback": []
    }
   ],
   "source": []
  },
  {
   "cell_type": "code",
   "execution_count": null,
   "id": "lasting-developer",
   "metadata": {},
   "outputs": [],
   "source": []
  }
 ],
 "metadata": {
  "kernelspec": {
   "display_name": ".NET (C#)",
   "language": "C#",
   "name": ".net-csharp"
  },
  "language_info": {
   "file_extension": ".cs",
   "mimetype": "text/x-csharp",
   "name": "C#",
   "pygments_lexer": "csharp",
   "version": "8.0"
  }
 },
 "nbformat": 4,
 "nbformat_minor": 5
}
